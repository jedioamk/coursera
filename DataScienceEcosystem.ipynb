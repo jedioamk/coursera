{
 "cells": [
  {
   "cell_type": "markdown",
   "id": "3a2a312f-61df-471d-9922-77bca0abedb2",
   "metadata": {},
   "source": [
    "# Data Science Tools and Ecosystem"
   ]
  },
  {
   "cell_type": "markdown",
   "id": "e0170bb0-4f1a-430b-8a69-62dd684393ea",
   "metadata": {},
   "source": [
    "In this notebook, Data Science Tools and Ecosystem are summarized."
   ]
  },
  {
   "cell_type": "markdown",
   "id": "78c430da-63b0-4748-a5fc-0fbc218f2ec3",
   "metadata": {
    "tags": []
   },
   "source": [
    "**Objectives**\n",
    "\n",
    "- List popular languages for Data Science\n",
    "- Common Data Science libraries\n",
    "- Table of Data Science Tools"
   ]
  },
  {
   "cell_type": "markdown",
   "id": "d18fbe74-7d39-41ee-bb23-c69e13787b3e",
   "metadata": {},
   "source": [
    "Some of the popular languages that Data Scientists use are:"
   ]
  },
  {
   "cell_type": "markdown",
   "id": "6be5002f-f560-494f-b6c8-ef9c5916cc77",
   "metadata": {
    "tags": []
   },
   "source": [
    "1. Python\n",
    "2. Julia\n",
    "3. R"
   ]
  },
  {
   "cell_type": "markdown",
   "id": "cca7572c-cdbc-446a-8a71-046af0e03e53",
   "metadata": {},
   "source": [
    "Some of the commonly used libraries used by Data Scientists include:"
   ]
  },
  {
   "cell_type": "markdown",
   "id": "7e87c347-6901-4226-bf05-76d41776f50f",
   "metadata": {},
   "source": [
    "1. Scrapy\n",
    "2. NumPy\n",
    "3. Pandas\n"
   ]
  },
  {
   "cell_type": "markdown",
   "id": "09fffaf4-d181-4b2b-9ae5-80df679723dd",
   "metadata": {
    "tags": []
   },
   "source": [
    "Table of Data Science Tools"
   ]
  },
  {
   "cell_type": "markdown",
   "id": "765dd18d-f6bb-4fd9-b778-cd7874f26373",
   "metadata": {
    "tags": []
   },
   "source": [
    "| Data Science Tools |\n",
    "|--------------------|\n",
    "| Jupyter Notebooks  |\n",
    "| RStudio            |\n",
    "| VSCode with Python  |\n"
   ]
  },
  {
   "cell_type": "markdown",
   "id": "3f44c1af-6d94-4a40-b2f9-8ff64ae8641e",
   "metadata": {},
   "source": [
    "### Below are a few examples of evaluating arithmetic expressions in Python"
   ]
  },
  {
   "cell_type": "code",
   "execution_count": 8,
   "id": "dde36b45-5a9d-4b39-942a-6d75b8a1ee0a",
   "metadata": {
    "tags": []
   },
   "outputs": [
    {
     "data": {
      "text/plain": [
       "17"
      ]
     },
     "execution_count": 8,
     "metadata": {},
     "output_type": "execute_result"
    }
   ],
   "source": [
    "# This a simple arithmetic expression to mutiply then add integers\n",
    "(3*4)+5"
   ]
  },
  {
   "cell_type": "code",
   "execution_count": 12,
   "id": "8a17661b-a803-433e-9e20-4d1e7f40e08d",
   "metadata": {
    "tags": []
   },
   "outputs": [
    {
     "data": {
      "text/plain": [
       "3.3333333333333335"
      ]
     },
     "execution_count": 12,
     "metadata": {},
     "output_type": "execute_result"
    }
   ],
   "source": [
    "# This will convert 200 minutes to hours by diving by 60\n",
    "minutes = 200\n",
    "hours = minutes / 60\n",
    "hours"
   ]
  },
  {
   "cell_type": "markdown",
   "id": "32709e5a-70c1-4b97-bfab-28f76a6279ae",
   "metadata": {},
   "source": [
    "## Author"
   ]
  },
  {
   "cell_type": "markdown",
   "id": "0da8134a-72ed-4716-9af6-98ae5500d778",
   "metadata": {
    "tags": []
   },
   "source": [
    "Ivan Baptista"
   ]
  },
  {
   "cell_type": "code",
   "execution_count": null,
   "id": "ee517778-8c51-40df-970d-2ccd138808fc",
   "metadata": {},
   "outputs": [],
   "source": []
  }
 ],
 "metadata": {
  "kernelspec": {
   "display_name": "Python",
   "language": "python",
   "name": "conda-env-python-py"
  },
  "language_info": {
   "codemirror_mode": {
    "name": "ipython",
    "version": 3
   },
   "file_extension": ".py",
   "mimetype": "text/x-python",
   "name": "python",
   "nbconvert_exporter": "python",
   "pygments_lexer": "ipython3",
   "version": "3.7.12"
  }
 },
 "nbformat": 4,
 "nbformat_minor": 5
}
